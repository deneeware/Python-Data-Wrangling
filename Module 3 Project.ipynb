{
 "cells": [
  {
   "cell_type": "markdown",
   "id": "02088a8f",
   "metadata": {},
   "source": [
    "'''\n",
    "\n",
    "We appreciated your help in stepping in during a bit of an exigent situation. We have a bit calmer of a task for you and one suited to a \"Sun Devil.\" We have some basic crime data for Phoenix and we need to make better sense of it. We want to know where different kinds of crimes are occurring, in which areas crime is growing fastest (or dropping fastest), and whether certain crimes are more common in certain areas of the city. Basically, we don't need maps or anything at this stage, just some data grouped by location (either the type of location or the zip codes) and some trend data.\n",
    "\n",
    "I mean, if you have the time for a bit of a challenge, we would love for you to bring in some other data to help draw a better picture around this. Are there some factors that affect the crime rate? If there are, we could see if there were ways to see where crime was more likely. We might even ask you to head up our new Pre-Crime unit in the Valley.\n",
    "\n",
    "'''"
   ]
  },
  {
   "cell_type": "markdown",
   "id": "b9ca9920",
   "metadata": {},
   "source": [
    "*For this task, we want to:*\n",
    "\n",
    "Grouping crimes by location type or by zip code (or groups of zip codes).\n",
    "\n",
    "Looking at types of crimes and where they are most common.\n",
    "\n",
    "Find our which areas have the fastest growing and shrinking crime rates.\n",
    "\n",
    "Grouping crimes by violent and non-violent crimes."
   ]
  },
  {
   "cell_type": "code",
   "execution_count": 2,
   "id": "c6406b02",
   "metadata": {},
   "outputs": [],
   "source": [
    "#import dependencies\n",
    "import numpy as np\n",
    "import matplotlib.pyplot as plt\n",
    "import pandas as pd"
   ]
  },
  {
   "cell_type": "code",
   "execution_count": 18,
   "id": "1770b663",
   "metadata": {},
   "outputs": [
    {
     "data": {
      "text/html": [
       "<div>\n",
       "<style scoped>\n",
       "    .dataframe tbody tr th:only-of-type {\n",
       "        vertical-align: middle;\n",
       "    }\n",
       "\n",
       "    .dataframe tbody tr th {\n",
       "        vertical-align: top;\n",
       "    }\n",
       "\n",
       "    .dataframe thead th {\n",
       "        text-align: right;\n",
       "    }\n",
       "</style>\n",
       "<table border=\"1\" class=\"dataframe\">\n",
       "  <thead>\n",
       "    <tr style=\"text-align: right;\">\n",
       "      <th></th>\n",
       "      <th>INC NUMBER</th>\n",
       "      <th>OCCURRED ON</th>\n",
       "      <th>OCCURRED TO</th>\n",
       "      <th>UCR CRIME CATEGORY</th>\n",
       "      <th>100 BLOCK ADDR</th>\n",
       "      <th>ZIP</th>\n",
       "      <th>PREMISE TYPE</th>\n",
       "      <th>GRID</th>\n",
       "    </tr>\n",
       "  </thead>\n",
       "  <tbody>\n",
       "    <tr>\n",
       "      <th>0</th>\n",
       "      <td>198181008285</td>\n",
       "      <td>1/20/2023 0:00</td>\n",
       "      <td>NaN</td>\n",
       "      <td>BURGLARY</td>\n",
       "      <td>60XX S 11TH ST</td>\n",
       "      <td>85042.0</td>\n",
       "      <td>SINGLE FAMILY HOUSE</td>\n",
       "      <td>AC29</td>\n",
       "    </tr>\n",
       "    <tr>\n",
       "      <th>1</th>\n",
       "      <td>198282025394</td>\n",
       "      <td>6/25/2023 0:00</td>\n",
       "      <td>6/25/2023 0:00</td>\n",
       "      <td>LARCENY-THEFT</td>\n",
       "      <td>16XX N BLACK CANYON AC</td>\n",
       "      <td>85009.0</td>\n",
       "      <td>PARKING LOT</td>\n",
       "      <td>BD23B</td>\n",
       "    </tr>\n",
       "    <tr>\n",
       "      <th>2</th>\n",
       "      <td>198282029471</td>\n",
       "      <td>6/24/2023 0:00</td>\n",
       "      <td>6/24/2023 0:00</td>\n",
       "      <td>BURGLARY</td>\n",
       "      <td>5XX W CAMELBACK RD</td>\n",
       "      <td>85013.0</td>\n",
       "      <td>SPECIALTY STORE</td>\n",
       "      <td>BI27</td>\n",
       "    </tr>\n",
       "    <tr>\n",
       "      <th>3</th>\n",
       "      <td>198282030338</td>\n",
       "      <td>6/25/2023 0:00</td>\n",
       "      <td>NaN</td>\n",
       "      <td>LARCENY-THEFT</td>\n",
       "      <td>4XX N 17TH AVE</td>\n",
       "      <td>85007.0</td>\n",
       "      <td>SINGLE FAMILY HOUSE</td>\n",
       "      <td>BB25</td>\n",
       "    </tr>\n",
       "    <tr>\n",
       "      <th>4</th>\n",
       "      <td>198282030737</td>\n",
       "      <td>6/25/2023 0:00</td>\n",
       "      <td>6/25/2023 0:00</td>\n",
       "      <td>LARCENY-THEFT</td>\n",
       "      <td>48XX E BRILL ST</td>\n",
       "      <td>85008.0</td>\n",
       "      <td>SINGLE FAMILY HOUSE</td>\n",
       "      <td>BC39</td>\n",
       "    </tr>\n",
       "  </tbody>\n",
       "</table>\n",
       "</div>"
      ],
      "text/plain": [
       "     INC NUMBER     OCCURRED ON     OCCURRED TO UCR CRIME CATEGORY  \\\n",
       "0  198181008285  1/20/2023 0:00             NaN           BURGLARY   \n",
       "1  198282025394  6/25/2023 0:00  6/25/2023 0:00      LARCENY-THEFT   \n",
       "2  198282029471  6/24/2023 0:00  6/24/2023 0:00           BURGLARY   \n",
       "3  198282030338  6/25/2023 0:00             NaN      LARCENY-THEFT   \n",
       "4  198282030737  6/25/2023 0:00  6/25/2023 0:00      LARCENY-THEFT   \n",
       "\n",
       "           100 BLOCK ADDR      ZIP         PREMISE TYPE   GRID  \n",
       "0          60XX S 11TH ST  85042.0  SINGLE FAMILY HOUSE   AC29  \n",
       "1  16XX N BLACK CANYON AC  85009.0          PARKING LOT  BD23B  \n",
       "2      5XX W CAMELBACK RD  85013.0      SPECIALTY STORE   BI27  \n",
       "3          4XX N 17TH AVE  85007.0  SINGLE FAMILY HOUSE   BB25  \n",
       "4         48XX E BRILL ST  85008.0  SINGLE FAMILY HOUSE   BC39  "
      ]
     },
     "execution_count": 18,
     "metadata": {},
     "output_type": "execute_result"
    }
   ],
   "source": [
    "#load data\n",
    "file_path = r'C:\\Users\\denee\\Desktop\\Homework\\crime-data_crime-data_crimestat.csv'\n",
    "\n",
    "# Specify the data types  \n",
    "df = pd.read_csv(file_path)\n",
    "df.head()"
   ]
  },
  {
   "cell_type": "markdown",
   "id": "ef5867bf",
   "metadata": {},
   "source": [
    "Grouping crimes by location type or by zip code (or groups of zip codes)."
   ]
  },
  {
   "cell_type": "code",
   "execution_count": 26,
   "id": "407f2d6c",
   "metadata": {},
   "outputs": [
    {
     "name": "stdout",
     "output_type": "stream",
     "text": [
      "ZIP      PREMISE TYPE                       \n",
      "85003.0  ABANDONED/CONDEMNED STRUCTURE             3\n",
      "         AIRPORT                                   3\n",
      "         ALLEY                                    39\n",
      "         APARTMENT                              1094\n",
      "         ARENA / STADIUM / CONVENTION CENTER      10\n",
      "                                                ... \n",
      "85396.0  SINGLE FAMILY HOUSE                       1\n",
      "         SPECIALTY STORE                           2\n",
      "         STREET / ROADWAY / ALLEY / SIDEWALK       3\n",
      "         STREET / ROADWAY / SIDEWALK               1\n",
      "         VEHICLE                                   2\n",
      "Length: 4084, dtype: int64\n"
     ]
    }
   ],
   "source": [
    "#Grouping crimes by zip code (or groups of zip codes).\n",
    "crime_count_by_zip = df.groupby(['ZIP', 'PREMISE TYPE']).size()\n",
    "\n",
    "# Print the result\n",
    "print(crime_count_by_zip)"
   ]
  },
  {
   "cell_type": "markdown",
   "id": "39232a9e",
   "metadata": {},
   "source": [
    "Looking at types of crimes and where they are most common."
   ]
  },
  {
   "cell_type": "code",
   "execution_count": 27,
   "id": "c237d07b",
   "metadata": {},
   "outputs": [
    {
     "name": "stdout",
     "output_type": "stream",
     "text": [
      "                        UCR CRIME CATEGORY         PREMISE TYPE  count\n",
      "5                       AGGRAVATED ASSAULT            APARTMENT  11888\n",
      "148                                  ARSON  SINGLE FAMILY HOUSE    503\n",
      "225                               BURGLARY  SINGLE FAMILY HOUSE  28352\n",
      "321                           DRUG OFFENSE              VEHICLE   7709\n",
      "328                          LARCENY-THEFT            APARTMENT  25767\n",
      "426                    MOTOR VEHICLE THEFT            APARTMENT  13748\n",
      "543  MURDER AND NON-NEGLIGENT MANSLAUGHTER  SINGLE FAMILY HOUSE    241\n",
      "617                                   RAPE  SINGLE FAMILY HOUSE   2349\n",
      "684                                ROBBERY          PARKING LOT   3131\n"
     ]
    }
   ],
   "source": [
    "# Group by 'UCR CRIME CATEGORY' and then 'PREMISE TYPE'\n",
    "grouped = df.groupby(['UCR CRIME CATEGORY', 'PREMISE TYPE'])\n",
    "\n",
    "# Count the occurrences of crime in each group\n",
    "crime_counts = grouped.size()\n",
    "\n",
    "# Convert the series to a df\n",
    "crime_counts_df = crime_counts.reset_index(name='count')\n",
    "\n",
    "# Sort the df by CRIME CATEGORY in descending order\n",
    "sorted_crime_counts = crime_counts_df.sort_values(['UCR CRIME CATEGORY', 'count'], ascending=[True, False])\n",
    "\n",
    "# Drop duplicates, keeping the most frequent for each CRIME CATEGORY'\n",
    "most_frequent_premise = sorted_crime_counts.drop_duplicates(subset=['UCR CRIME CATEGORY'])\n",
    "\n",
    "print(most_frequent_premise)"
   ]
  },
  {
   "cell_type": "markdown",
   "id": "8862e3c7",
   "metadata": {},
   "source": [
    "Find our which areas have the fastest growing and shrinking crime rates."
   ]
  },
  {
   "cell_type": "code",
   "execution_count": 28,
   "id": "e49ea219",
   "metadata": {},
   "outputs": [],
   "source": [
    "#Convert \"OCCURRED ON\" to a date time column in pandas\n",
    "df['OCCURRED ON'] = pd.to_datetime(df['OCCURRED ON'])\n",
    "\n",
    "# Extract the year (or you can choose month, quarter, etc.)\n",
    "df['Year'] = df['OCCURRED ON'].dt.year"
   ]
  },
  {
   "cell_type": "code",
   "execution_count": 29,
   "id": "ffd49ffa",
   "metadata": {},
   "outputs": [],
   "source": [
    "# Group by ZIP and Year, then count the number of crimes\n",
    "crime_counts = df.groupby(['ZIP', 'Year']).size().reset_index(name='Count')"
   ]
  },
  {
   "cell_type": "code",
   "execution_count": 30,
   "id": "14369daa",
   "metadata": {},
   "outputs": [],
   "source": [
    "# Pivot so that Years is a column and ZIP is rows\n",
    "pivot_crime_counts = crime_counts.pivot(index='ZIP', columns='Year', values='Count')"
   ]
  },
  {
   "cell_type": "code",
   "execution_count": 31,
   "id": "fe8476b3",
   "metadata": {},
   "outputs": [
    {
     "name": "stdout",
     "output_type": "stream",
     "text": [
      "Year\n",
      "2015.0        NaN\n",
      "2016.0    85015.0\n",
      "2017.0    85043.0\n",
      "2018.0    85007.0\n",
      "2019.0    85041.0\n",
      "2020.0    85008.0\n",
      "2021.0    85029.0\n",
      "2022.0    85004.0\n",
      "2023.0    85021.0\n",
      "2024.0    85260.0\n",
      "dtype: float64\n"
     ]
    }
   ],
   "source": [
    "# Calculate the year-over-year difference in crime counts by ZIP\n",
    "pivot_crime_counts = pivot_crime_counts.diff(axis=1)\n",
    "\n",
    "# Find the ZIP with the greatest increase in crime for each year\n",
    "max_increase_zip = pivot_crime_counts.idxmax()\n",
    "\n",
    "print(max_increase_zip)"
   ]
  },
  {
   "cell_type": "markdown",
   "id": "329da2ab",
   "metadata": {},
   "source": [
    "Here we see that the zips 85021 and 85260 have been having the greatest increase in crime in the recent years (2023-2024)"
   ]
  },
  {
   "cell_type": "markdown",
   "id": "5cda68b6",
   "metadata": {},
   "source": [
    "Now, lets group crimes by violent and non-violent crimes."
   ]
  },
  {
   "cell_type": "code",
   "execution_count": 33,
   "id": "f97a7087",
   "metadata": {},
   "outputs": [
    {
     "name": "stdout",
     "output_type": "stream",
     "text": [
      "['BURGLARY' 'LARCENY-THEFT' 'MOTOR VEHICLE THEFT' 'ROBBERY' 'ARSON'\n",
      " 'AGGRAVATED ASSAULT' 'RAPE' 'DRUG OFFENSE'\n",
      " 'MURDER AND NON-NEGLIGENT MANSLAUGHTER']\n"
     ]
    }
   ],
   "source": [
    "print(df['UCR CRIME CATEGORY'].unique())"
   ]
  },
  {
   "cell_type": "markdown",
   "id": "fbba7774",
   "metadata": {},
   "source": [
    "We see that the values aggrevated assault, rage, murder, and arson can be classified as 'voilent crime', lets have the other values classified as 'non-voilent crimes' in a new binary column in our dataset"
   ]
  },
  {
   "cell_type": "code",
   "execution_count": 34,
   "id": "f9562290",
   "metadata": {},
   "outputs": [],
   "source": [
    "violent_crimes = ['AGGRAVATED ASSAULT', 'RAPE', 'MURDER AND NON-NEGLIGENT MANSLAUGHTER', 'ARSON']\n",
    "df['VIOLENT_CRIME'] = np.where(df['UCR CRIME CATEGORY'].isin(violent_crimes), 1, 0)"
   ]
  },
  {
   "cell_type": "code",
   "execution_count": 35,
   "id": "54943bdf",
   "metadata": {},
   "outputs": [],
   "source": [
    "# Group by ZIP, Year, and Violent Crime status, and then count the number of crimes\n",
    "crime_counts = df.groupby(['ZIP', 'Year', 'VIOLENT_CRIME']).size().reset_index(name='Count')"
   ]
  },
  {
   "cell_type": "code",
   "execution_count": 36,
   "id": "8efde76b",
   "metadata": {},
   "outputs": [],
   "source": [
    "# Pivot the table with ZIP and Violent Crime as rows and Year as columns\n",
    "pivot_crime_counts = crime_counts.pivot_table(index=['ZIP', 'VIOLENT_CRIME'], columns='Year', values='Count')"
   ]
  },
  {
   "cell_type": "code",
   "execution_count": 37,
   "id": "2999d0be",
   "metadata": {},
   "outputs": [],
   "source": [
    "# Calculate the year-over-year change in crime count\n",
    "pivot_crime_counts = pivot_crime_counts.diff(axis=1)"
   ]
  },
  {
   "cell_type": "code",
   "execution_count": 38,
   "id": "56311a32",
   "metadata": {},
   "outputs": [],
   "source": [
    "# Reset index \n",
    "pivot_crime_counts_reset = pivot_crime_counts.reset_index()"
   ]
  },
  {
   "cell_type": "code",
   "execution_count": 39,
   "id": "f352f094",
   "metadata": {},
   "outputs": [],
   "source": [
    "# Filter for violent and non-violent crimes separately and find the ZIP code with the greatest increase\n",
    "max_increase_violent = pivot_crime_counts_reset[pivot_crime_counts_reset['VIOLENT_CRIME'] == 1].set_index('ZIP').idxmax(axis=1)\n",
    "max_increase_non_violent = pivot_crime_counts_reset[pivot_crime_counts_reset['VIOLENT_CRIME'] == 0].set_index('ZIP').idxmax(axis=1)"
   ]
  },
  {
   "cell_type": "code",
   "execution_count": 40,
   "id": "6e870cfc",
   "metadata": {},
   "outputs": [
    {
     "name": "stdout",
     "output_type": "stream",
     "text": [
      "ZIP codes with the greatest increase in violent crimes:\n",
      "ZIP\n",
      "85003.0           2016.0\n",
      "85004.0           2016.0\n",
      "85006.0           2016.0\n",
      "85007.0           2016.0\n",
      "85008.0           2016.0\n",
      "               ...      \n",
      "85388.0    VIOLENT_CRIME\n",
      "85390.0    VIOLENT_CRIME\n",
      "85392.0    VIOLENT_CRIME\n",
      "85395.0    VIOLENT_CRIME\n",
      "85396.0    VIOLENT_CRIME\n",
      "Length: 98, dtype: object\n",
      "\n",
      "ZIP codes with the greatest increase in non-violent crimes:\n",
      "ZIP\n",
      "85003.0           2016.0\n",
      "85004.0           2016.0\n",
      "85006.0           2016.0\n",
      "85007.0           2016.0\n",
      "85008.0           2016.0\n",
      "               ...      \n",
      "85383.0           2023.0\n",
      "85388.0    VIOLENT_CRIME\n",
      "85392.0           2019.0\n",
      "85395.0           2022.0\n",
      "85396.0           2018.0\n",
      "Length: 111, dtype: object\n"
     ]
    }
   ],
   "source": [
    "print(\"ZIP codes with the greatest increase in violent crimes:\")\n",
    "print(max_increase_violent)\n",
    "print(\"\\nZIP codes with the greatest increase in non-violent crimes:\")\n",
    "print(max_increase_non_violent)"
   ]
  }
 ],
 "metadata": {
  "kernelspec": {
   "display_name": "Python 3 (ipykernel)",
   "language": "python",
   "name": "python3"
  },
  "language_info": {
   "codemirror_mode": {
    "name": "ipython",
    "version": 3
   },
   "file_extension": ".py",
   "mimetype": "text/x-python",
   "name": "python",
   "nbconvert_exporter": "python",
   "pygments_lexer": "ipython3",
   "version": "3.11.5"
  }
 },
 "nbformat": 4,
 "nbformat_minor": 5
}
